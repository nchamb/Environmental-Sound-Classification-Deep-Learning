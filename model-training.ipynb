{
 "cells": [
  {
   "cell_type": "markdown",
   "id": "3528fc03",
   "metadata": {
    "id": "3528fc03"
   },
   "source": [
    "# General Data Preparation\n"
   ]
  },
  {
   "cell_type": "code",
   "execution_count": null,
   "id": "2tpaeYugiq__",
   "metadata": {
    "colab": {
     "base_uri": "https://localhost:8080/"
    },
    "executionInfo": {
     "elapsed": 24511,
     "status": "ok",
     "timestamp": 1753051974958,
     "user": {
      "displayName": "Nipun Bandara",
      "userId": "00637674834345317524"
     },
     "user_tz": -600
    },
    "id": "2tpaeYugiq__",
    "outputId": "d78cb8a5-ad35-47af-adf6-3a1e047141ef"
   },
   "outputs": [
    {
     "name": "stdout",
     "output_type": "stream",
     "text": [
      "Mounted at /content/drive\n"
     ]
    }
   ],
   "source": [
    "from google.colab import drive\n",
    "drive.mount('/content/drive')"
   ]
  },
  {
   "cell_type": "markdown",
   "id": "df73f3bf",
   "metadata": {
    "id": "df73f3bf"
   },
   "source": [
    "# General Data Preprocessing"
   ]
  },
  {
   "cell_type": "code",
   "execution_count": null,
   "id": "9703802c",
   "metadata": {
    "colab": {
     "base_uri": "https://localhost:8080/"
    },
    "executionInfo": {
     "elapsed": 727457,
     "status": "ok",
     "timestamp": 1753052715903,
     "user": {
      "displayName": "Nipun Bandara",
      "userId": "00637674834345317524"
     },
     "user_tz": -600
    },
    "id": "9703802c",
    "outputId": "99728633-6f58-4d04-c6dc-4863a33ca8a4"
   },
   "outputs": [
    {
     "name": "stdout",
     "output_type": "stream",
     "text": [
      "extracting /content/drive/MyDrive/uni/code/image_compressed/images_01.tar.gz...\n",
      "extracting /content/drive/MyDrive/uni/code/image_compressed/images_02.tar.gz...\n",
      "extracting /content/drive/MyDrive/uni/code/image_compressed/images_03.tar.gz...\n",
      "extracting /content/drive/MyDrive/uni/code/image_compressed/images_04.tar.gz...\n",
      "extracting /content/drive/MyDrive/uni/code/image_compressed/images_05.tar.gz...\n",
      "extracting /content/drive/MyDrive/uni/code/image_compressed/images_06.tar.gz...\n",
      "extracting /content/drive/MyDrive/uni/code/image_compressed/images_07.tar.gz...\n",
      "extracting /content/drive/MyDrive/uni/code/image_compressed/images_08.tar.gz...\n",
      "extracting /content/drive/MyDrive/uni/code/image_compressed/images_09.tar.gz...\n",
      "extracting /content/drive/MyDrive/uni/code/image_compressed/images_10.tar.gz...\n",
      "extracting /content/drive/MyDrive/uni/code/image_compressed/images_11.tar.gz...\n",
      "extracting /content/drive/MyDrive/uni/code/image_compressed/images_12.tar.gz...\n"
     ]
    }
   ],
   "source": [
    "# Extract the downloaded tar.gz files from gdrive\n",
    "import tarfile\n",
    "for idx in range(1, 13):\n",
    "    fn = '/content/drive/MyDrive/uni/code/image_compressed/images_%02d.tar.gz' % idx\n",
    "    print('extracting '+fn+'...')\n",
    "    with tarfile.open(fn, 'r:gz') as tar:\n",
    "        tar.extractall('')  # extract the contents of the zip file\n"
   ]
  },
  {
   "cell_type": "markdown",
   "id": "SoQLxjTCwmWP",
   "metadata": {
    "id": "SoQLxjTCwmWP"
   },
   "source": [
    "# Data Preprocessing for DenseNet121"
   ]
  },
  {
   "cell_type": "markdown",
   "id": "2f57d0e9",
   "metadata": {
    "id": "2f57d0e9"
   },
   "source": [
    "# DenseNet121 Model Creation and Training"
   ]
  },
  {
   "cell_type": "markdown",
   "id": "a5dd3a32",
   "metadata": {
    "id": "a5dd3a32"
   },
   "source": [
    "# DenseNet121 Model Evaluation\n",
    "\n",
    "Basic evaluation of the DenseNet model with Accuracy, Precision, Recall, F1-Score, and Confusion Matrix."
   ]
  },
  {
   "cell_type": "markdown",
   "id": "wMqc6HZSzyzp",
   "metadata": {
    "id": "wMqc6HZSzyzp"
   },
   "source": [
    "Save DenseNet121 model to gcloud"
   ]
  },
  {
   "cell_type": "code",
   "execution_count": null,
   "id": "0ed0d0f8",
   "metadata": {
    "id": "0ed0d0f8"
   },
   "outputs": [],
   "source": [
    "!cp /content/checkpoints/best_pretrained_densenet_121.pth /content/drive/MyDrive/uni/code/Disease-Diagnosis-Deep-Learning/checkpoints"
   ]
  },
  {
   "cell_type": "markdown",
   "id": "kkuzNa4bxoEL",
   "metadata": {
    "id": "kkuzNa4bxoEL"
   },
   "source": [
    "# Data Preprocessing for Custom CNN Model"
   ]
  },
  {
   "cell_type": "markdown",
   "id": "WB-XIPakyEpY",
   "metadata": {
    "id": "WB-XIPakyEpY"
   },
   "source": [
    "# Custom CNN Model Creation and Training"
   ]
  },
  {
   "cell_type": "markdown",
   "id": "JwETLqzzypGN",
   "metadata": {
    "id": "JwETLqzzypGN"
   },
   "source": [
    "Same Code for the Custom CNN model"
   ]
  },
  {
   "cell_type": "markdown",
   "id": "6UdW_djFzLZx",
   "metadata": {
    "id": "6UdW_djFzLZx"
   },
   "source": [
    "# Custom CNN Model Evaluation\n",
    "\n",
    "Basic evaluation of the DenseNet model with Accuracy, Precision, Recall, F1-Score, and Confusion Matrix.\n",
    "\n",
    "Same code for the custom model evaluation"
   ]
  },
  {
   "cell_type": "markdown",
   "id": "HBYDBZtAz5nD",
   "metadata": {
    "id": "HBYDBZtAz5nD"
   },
   "source": [
    "# Save Custom CNN Model to gcloud"
   ]
  },
  {
   "cell_type": "code",
   "execution_count": 120,
   "id": "tEC-cGV4z8-8",
   "metadata": {
    "executionInfo": {
     "elapsed": 512,
     "status": "ok",
     "timestamp": 1753092936148,
     "user": {
      "displayName": "Nipun Bandara",
      "userId": "00637674834345317524"
     },
     "user_tz": -600
    },
    "id": "tEC-cGV4z8-8"
   },
   "outputs": [],
   "source": [
    "!cp /content/checkpoints/best_custom_cnn.pth /content/drive/MyDrive/uni/code/Disease-Diagnosis-Deep-Learning/checkpoints"
   ]
  }
 ],
 "metadata": {
  "accelerator": "GPU",
  "colab": {
   "gpuType": "L4",
   "machine_shape": "hm",
   "provenance": []
  },
  "kernelspec": {
   "display_name": "Python 3",
   "name": "python3"
  },
  "language_info": {
   "codemirror_mode": {
    "name": "ipython",
    "version": 3
   },
   "file_extension": ".py",
   "mimetype": "text/x-python",
   "name": "python",
   "nbconvert_exporter": "python",
   "pygments_lexer": "ipython3",
   "version": "3.9.6"
  }
 },
 "nbformat": 4,
 "nbformat_minor": 5
}
